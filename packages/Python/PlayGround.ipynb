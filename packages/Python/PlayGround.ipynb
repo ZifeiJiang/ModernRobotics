{
 "cells": [
  {
   "cell_type": "markdown",
   "metadata": {},
   "source": [
    "### Forward Kinemetic"
   ]
  },
  {
   "cell_type": "code",
   "execution_count": 2,
   "metadata": {},
   "outputs": [],
   "source": [
    "\n",
    "import modern_robotics.core as robot\n",
    "import numpy as np\n"
   ]
  },
  {
   "cell_type": "code",
   "execution_count": 6,
   "metadata": {},
   "outputs": [
    {
     "name": "stdout",
     "output_type": "stream",
     "text": [
      "[[-1  0  0  0]\n",
      " [ 0  1  0  6]\n",
      " [ 0  0 -1  2]\n",
      " [ 0  0  0  1]]\n"
     ]
    }
   ],
   "source": [
    "M = np.array([[-1, 0,  0, 0],\n",
    "              [ 0, 1,  0, 6],\n",
    "              [ 0, 0, -1, 2],\n",
    "              [ 0, 0,  0, 1]])\n",
    "Blist = np.array([[0, 0, -1, 2, 0,   0],\n",
    "                  [0, 0,  0, 0, 1,   0],\n",
    "                  [0, 0,  1, 0, 0, 0.1]]).T\n",
    "thetalist = np.array([np.pi / 2.0, 3, np.pi])\n",
    "print(M)\n",
    "Fkin = robot.FKinBody(M, Blist, thetalist)"
   ]
  },
  {
   "cell_type": "markdown",
   "metadata": {},
   "source": [
    "### Open Chain Dynamics"
   ]
  },
  {
   "cell_type": "code",
   "execution_count": null,
   "metadata": {},
   "outputs": [],
   "source": []
  }
 ],
 "metadata": {
  "interpreter": {
   "hash": "da6ddbe119b898d2d2c3f5e80b9f92d3183247651bb3b6a80d90ace5281ef639"
  },
  "kernelspec": {
   "display_name": "Python 3.8.5 ('spiningup')",
   "language": "python",
   "name": "python3"
  },
  "language_info": {
   "codemirror_mode": {
    "name": "ipython",
    "version": 3
   },
   "file_extension": ".py",
   "mimetype": "text/x-python",
   "name": "python",
   "nbconvert_exporter": "python",
   "pygments_lexer": "ipython3",
   "version": "3.8.5"
  },
  "orig_nbformat": 4
 },
 "nbformat": 4,
 "nbformat_minor": 2
}
